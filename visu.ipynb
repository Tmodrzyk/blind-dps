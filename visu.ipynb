{
 "cells": [
  {
   "cell_type": "code",
   "execution_count": 8,
   "metadata": {},
   "outputs": [
    {
     "data": {
      "application/vnd.jupyter.widget-view+json": {
       "model_id": "34b94d46151e412084ddfc89f8c1c7ac",
       "version_major": 2,
       "version_minor": 0
      },
      "text/plain": [
       "interactive(children=(IntSlider(value=0, description='step', max=149), Output()), _dom_classes=('widget-intera…"
      ]
     },
     "metadata": {},
     "output_type": "display_data"
    },
    {
     "data": {
      "text/plain": [
       "<function __main__.display_slice(step)>"
      ]
     },
     "execution_count": 8,
     "metadata": {},
     "output_type": "execute_result"
    }
   ],
   "source": [
    "import torch\n",
    "import matplotlib.pyplot as plt\n",
    "import numpy as np\n",
    "from ipywidgets import interact, IntSlider\n",
    "from PIL import Image\n",
    "import os\n",
    "\n",
    "# Replace 'path/to/your/images' with the path to your image folder\n",
    "image_folder = 'results/blind_blur/progress/img/'\n",
    "\n",
    "# Create a list of image filenames in the folder\n",
    "images = [os.path.join(image_folder, img) for img in sorted(os.listdir(image_folder))]\n",
    "# Read images and store them in a list\n",
    "image_list = [Image.open(image) for image in images]\n",
    "\n",
    "# Now, image_list is a list of PIL Image objects representing your images\n",
    "\n",
    "# Function to display a slice of the volume\n",
    "def display_slice(step):\n",
    "    plt.imshow(image_list[step])\n",
    "    plt.title(f'Step {step * 10}')\n",
    "    plt.colorbar()\n",
    "    plt.show()\n",
    "\n",
    "# Using ipywidgets to create an interactive slider\n",
    "interact(display_slice, step=IntSlider(min=0, max=len(image_list) - 1, step=1, value=0))"
   ]
  },
  {
   "cell_type": "code",
   "execution_count": null,
   "metadata": {},
   "outputs": [],
   "source": []
  }
 ],
 "metadata": {
  "kernelspec": {
   "display_name": "BlindDPS_simple",
   "language": "python",
   "name": "python3"
  },
  "language_info": {
   "codemirror_mode": {
    "name": "ipython",
    "version": 3
   },
   "file_extension": ".py",
   "mimetype": "text/x-python",
   "name": "python",
   "nbconvert_exporter": "python",
   "pygments_lexer": "ipython3",
   "version": "3.9.18"
  }
 },
 "nbformat": 4,
 "nbformat_minor": 2
}
